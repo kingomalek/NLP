{
 "cells": [
  {
   "cell_type": "markdown",
   "metadata": {},
   "source": [
    "# Importing pandas and numpy"
   ]
  },
  {
   "cell_type": "code",
   "execution_count": 1,
   "metadata": {},
   "outputs": [],
   "source": [
    "import numpy as np\n",
    "import pandas as pd\n",
    "from time import time"
   ]
  },
  {
   "cell_type": "markdown",
   "metadata": {},
   "source": [
    "# Loading Dataset"
   ]
  },
  {
   "cell_type": "code",
   "execution_count": 2,
   "metadata": {},
   "outputs": [
    {
     "data": {
      "text/html": [
       "<div>\n",
       "<style scoped>\n",
       "    .dataframe tbody tr th:only-of-type {\n",
       "        vertical-align: middle;\n",
       "    }\n",
       "\n",
       "    .dataframe tbody tr th {\n",
       "        vertical-align: top;\n",
       "    }\n",
       "\n",
       "    .dataframe thead th {\n",
       "        text-align: right;\n",
       "    }\n",
       "</style>\n",
       "<table border=\"1\" class=\"dataframe\">\n",
       "  <thead>\n",
       "    <tr style=\"text-align: right;\">\n",
       "      <th></th>\n",
       "      <th>comment</th>\n",
       "      <th>comment_date</th>\n",
       "      <th>is_merged</th>\n",
       "      <th>merged_at</th>\n",
       "      <th>request_changes</th>\n",
       "    </tr>\n",
       "  </thead>\n",
       "  <tbody>\n",
       "    <tr>\n",
       "      <th>0</th>\n",
       "      <td>@chef/maintainers</td>\n",
       "      <td>2017-05-29 10:54:23</td>\n",
       "      <td>False</td>\n",
       "      <td>NaT</td>\n",
       "      <td>False</td>\n",
       "    </tr>\n",
       "    <tr>\n",
       "      <th>1</th>\n",
       "      <td>omnibus builds are already in pain so merging ...</td>\n",
       "      <td>2017-05-25 20:34:45</td>\n",
       "      <td>True</td>\n",
       "      <td>2017-05-25 20:34:27</td>\n",
       "      <td>False</td>\n",
       "    </tr>\n",
       "    <tr>\n",
       "      <th>2</th>\n",
       "      <td>@chef/client-core reviewage (lets not think to...</td>\n",
       "      <td>2017-05-25 17:21:56</td>\n",
       "      <td>True</td>\n",
       "      <td>2017-05-25 19:05:10</td>\n",
       "      <td>False</td>\n",
       "    </tr>\n",
       "    <tr>\n",
       "      <th>3</th>\n",
       "      <td>This blows up 14.04 because allow-downgrades i...</td>\n",
       "      <td>2017-05-25 19:15:14</td>\n",
       "      <td>False</td>\n",
       "      <td>NaT</td>\n",
       "      <td>True</td>\n",
       "    </tr>\n",
       "    <tr>\n",
       "      <th>4</th>\n",
       "      <td>I know @lamont-granquist and @thommay  are goi...</td>\n",
       "      <td>2017-05-23 22:58:13</td>\n",
       "      <td>True</td>\n",
       "      <td>2017-05-24 04:40:42</td>\n",
       "      <td>False</td>\n",
       "    </tr>\n",
       "  </tbody>\n",
       "</table>\n",
       "</div>"
      ],
      "text/plain": [
       "                                             comment        comment_date  \\\n",
       "0                                 @chef/maintainers  2017-05-29 10:54:23   \n",
       "1  omnibus builds are already in pain so merging ... 2017-05-25 20:34:45   \n",
       "2  @chef/client-core reviewage (lets not think to... 2017-05-25 17:21:56   \n",
       "3  This blows up 14.04 because allow-downgrades i... 2017-05-25 19:15:14   \n",
       "4  I know @lamont-granquist and @thommay  are goi... 2017-05-23 22:58:13   \n",
       "\n",
       "   is_merged           merged_at  request_changes  \n",
       "0      False                 NaT            False  \n",
       "1       True 2017-05-25 20:34:27            False  \n",
       "2       True 2017-05-25 19:05:10            False  \n",
       "3      False                 NaT             True  \n",
       "4       True 2017-05-24 04:40:42            False  "
      ]
     },
     "execution_count": 2,
     "metadata": {},
     "output_type": "execute_result"
    }
   ],
   "source": [
    "df = pd.read_csv('github_comments.tsv', encoding=\"utf-8\", delimiter='\\t',index_col=0,\n",
    "                 parse_dates = ['comment_date','merged_at'],\n",
    "                 dtype={'comment':str,'is_merged': bool,'request_changes':bool}\n",
    "                 )\n",
    "df.head()"
   ]
  },
  {
   "cell_type": "markdown",
   "metadata": {},
   "source": [
    "# Get information about the dataset (types, nb columns, nb rows, etc. )"
   ]
  },
  {
   "cell_type": "code",
   "execution_count": 3,
   "metadata": {},
   "outputs": [
    {
     "name": "stdout",
     "output_type": "stream",
     "text": [
      "<class 'pandas.core.frame.DataFrame'>\n",
      "Int64Index: 4001 entries, 0 to 4000\n",
      "Data columns (total 5 columns):\n",
      "comment            4001 non-null object\n",
      "comment_date       4001 non-null datetime64[ns]\n",
      "is_merged          4001 non-null bool\n",
      "merged_at          1159 non-null datetime64[ns]\n",
      "request_changes    4001 non-null bool\n",
      "dtypes: bool(2), datetime64[ns](2), object(1)\n",
      "memory usage: 132.8+ KB\n"
     ]
    }
   ],
   "source": [
    "df.info()"
   ]
  },
  {
   "cell_type": "markdown",
   "metadata": {},
   "source": [
    "# Check for NaNs\n",
    "Only the column merged_at has Nans: it represents the date at which the pull request was merged (if accepted).\n"
   ]
  },
  {
   "cell_type": "code",
   "execution_count": 4,
   "metadata": {},
   "outputs": [
    {
     "data": {
      "text/plain": [
       "comment               0\n",
       "comment_date          0\n",
       "is_merged             0\n",
       "merged_at          2842\n",
       "request_changes       0\n",
       "dtype: int64"
      ]
     },
     "execution_count": 4,
     "metadata": {},
     "output_type": "execute_result"
    }
   ],
   "source": [
    "df.isnull().sum()"
   ]
  },
  {
   "cell_type": "markdown",
   "metadata": {},
   "source": [
    "# Reading some comments"
   ]
  },
  {
   "cell_type": "code",
   "execution_count": 5,
   "metadata": {},
   "outputs": [
    {
     "data": {
      "text/plain": [
       "1418    Doh, I am sorry, I'd been using that to deploy releases to my local nexus so we could use it in my projects! I didn't mean to include this file in the commit. I'll try to undo it.\\n                                                                                                                                                                                                                     \n",
       "2391    Same as above, I think this should something like that:\\r\\n\\r\\n```\\r\\ncatch (Throwable t1) {\\r\\n\\ttry {\\r\\n\\t\\tif ( transaction.isActive() ) {\\r\\n\\t\\t\\ttransaction.rollback();\\r\\n\\t\\t}\\r\\n\\t}\\r\\n\\tcatch(Throwable t2) {\\r\\n\\t\\tsomeLogger.warn(\"Error while automatically rolling back a transaction\", e); // Maybe we could remove that\\r\\n\\t\\tt1.addSuppressed(t2);\\r\\n\\t}\\r\\n\\tthrow t1;\\r\\n}\\r\\n```\n",
       "842     @rwinch fixed\\n                                                                                                                                                                                                                                                                                                                                                                                           \n",
       "2516    > But I'd like to point out that the only other uses of IndexingMonitor only increment it by 1. \\n\\nah, interesting! It's not how I originally intended it. Another thing to fix :)\\n                                                                                                                                                                                                                     \n",
       "1805    You still pay for additional servers on AWS. You even pay for ES when using it \"as a service\".\\r\\n\\r\\nFeel free to propose a re-wording but I think the point is not negligible ;)                                                                                                                                                                                                                        \n",
       "3863    Couldn't this statement be outside of the loop?\\n                                                                                                                                                                                                                                                                                                                                                         \n",
       "1431    That NPE is in the DriverManagerConnectionProviderImpl and it is handled differently in Hibernate 4.2 and 4.3. It is caused by there being no URL configured, but there is a leftover(?) hsqldb URL in there, which fails as we're trying MySQL. So I think this test might need to change for upgraded Hibernates.\\n                                                                                     \n",
       "1529    s/it will be removed starting from Lucene 7/support for this approach will be removed in Apache Lucene since version 7.                                                                                                                                                                                                                                                                                   \n",
       "3282    Merged, thanks!                                                                                                                                                                                                                                                                                                                                                                                           \n",
       "1848    You can, but that's one more OSGi problem, because this must be used in the Elasticsearch module :)                                                                                                                                                                                                                                                                                                       \n",
       "Name: comment, dtype: object"
      ]
     },
     "execution_count": 5,
     "metadata": {},
     "output_type": "execute_result"
    }
   ],
   "source": [
    "pd.set_option('display.max_colwidth', -1)\n",
    "df.comment.sample(n=10,random_state=404)"
   ]
  },
  {
   "cell_type": "markdown",
   "metadata": {},
   "source": [
    "# The most common problems that appear in these comments:\n",
    "\n",
    "### The comments (texts) contain:\n",
    "\n",
    "- codes (for instance: JAVA)\n",
    "\n",
    "- urban language  (for instance: Doh)\n",
    "\n",
    "- links (for instance: https://hibernate.atlassian.net/browse/HBX-1225)\n",
    "\n",
    "- emojis (for instance: ':)')\n",
    "\n",
    "- combinaisation between english and code (for instance:How is it different from `ConstraintLocation#getTypeForValidatorResolution()`? )\n",
    "\n",
    "- tags and references (for instance: '@ge0ffrey')\n",
    "\n",
    "- spaces and tabs (for instance: '\\n \\t')\n",
    "\n",
    "- unstructured text: no fixed layout, no frequent pattern, different length, etc.\n"
   ]
  },
  {
   "cell_type": "markdown",
   "metadata": {},
   "source": [
    "### Furthermore, we can detect 4 behaviors in these observations:\n",
    "-  request_changes and is_merged are true:  an accepeted and merged request that contains modification \n",
    "-  request_changes is true and is_merged is false:  these are probably not solved issues.\n",
    "-  request_changes and is_merged are false:  I can't find an interesting assumption in this behavior maybe it is just a comment or an opinion that doesnt require changes in code.\n",
    "-  request_changes is false and is_merged is true: probably merged Pull requests without any issue  \n"
   ]
  },
  {
   "cell_type": "code",
   "execution_count": 6,
   "metadata": {},
   "outputs": [
    {
     "data": {
      "text/plain": [
       "is_merged  request_changes\n",
       "False      False              1906\n",
       "           True               936 \n",
       "True       False              875 \n",
       "           True               284 \n",
       "dtype: int64"
      ]
     },
     "execution_count": 6,
     "metadata": {},
     "output_type": "execute_result"
    }
   ],
   "source": [
    "#group comments by is_merged & request_changes\n",
    "df.groupby(['is_merged','request_changes']).size()\n"
   ]
  },
  {
   "cell_type": "markdown",
   "metadata": {},
   "source": [
    "# Text Cleaning\n",
    "\n",
    "### tokenization\n",
    "The function below is used to clean and tokenize our text."
   ]
  },
  {
   "cell_type": "code",
   "execution_count": 8,
   "metadata": {},
   "outputs": [],
   "source": [
    "import spacy\n",
    "spacy.load('en')\n",
    "from spacy.lang.en import English\n",
    "parser = English()\n",
    "\n",
    "def tokenize(text):\n",
    "    out_tokens = []\n",
    "    tokens = parser(text)\n",
    "    for token in tokens:\n",
    "        if token.orth_.isspace():\n",
    "            continue\n",
    "        elif token.like_url:\n",
    "            out_tokens.append('URL')\n",
    "        elif token.like_email:\n",
    "            out_tokens.append('EMAIL')\n",
    "        elif token.orth_.startswith('@'):\n",
    "            out_tokens.append('USER_NAME')\n",
    "        elif token.orth_.startswith('#'):\n",
    "            out_tokens.append('REF_')\n",
    "        else:\n",
    "            out_tokens.append(token.lower_)\n",
    "    return out_tokens"
   ]
  },
  {
   "cell_type": "markdown",
   "metadata": {},
   "source": [
    " ###  Text normalization\n",
    " we used WordNetLemmatizer to get the root of every word."
   ]
  },
  {
   "cell_type": "code",
   "execution_count": 9,
   "metadata": {},
   "outputs": [
    {
     "name": "stdout",
     "output_type": "stream",
     "text": [
      "[nltk_data] Downloading package wordnet to /home/malek/nltk_data...\n",
      "[nltk_data]   Package wordnet is already up-to-date!\n"
     ]
    }
   ],
   "source": [
    "import nltk\n",
    "from nltk.stem.wordnet import WordNetLemmatizer\n",
    "nltk.download('wordnet')\n",
    "\n",
    "def get_lemma(word):\n",
    "    return WordNetLemmatizer().lemmatize(word)"
   ]
  },
  {
   "cell_type": "markdown",
   "metadata": {},
   "source": [
    "### remove the stop words from the text"
   ]
  },
  {
   "cell_type": "code",
   "execution_count": 10,
   "metadata": {},
   "outputs": [
    {
     "name": "stdout",
     "output_type": "stream",
     "text": [
      "[nltk_data] Downloading package stopwords to /home/malek/nltk_data...\n",
      "[nltk_data]   Package stopwords is already up-to-date!\n"
     ]
    }
   ],
   "source": [
    "nltk.download('stopwords')\n",
    "en_stop = set(nltk.corpus.stopwords.words('english'))"
   ]
  },
  {
   "cell_type": "markdown",
   "metadata": {},
   "source": [
    "### Furthermore we will keep only words (NOUNS,ADJ,ADV,VB) with lenth greater than 3 chars and that contains only alphabet"
   ]
  },
  {
   "cell_type": "code",
   "execution_count": 11,
   "metadata": {},
   "outputs": [],
   "source": [
    "def prepare_text_for_lda(text):\n",
    "    tokens = tokenize(text)\n",
    "    tokens = [token for token in tokens if len(token) > 3]\n",
    "    tokens = [token for token in tokens if token.isalpha()]\n",
    "    tokens = [token for token in tokens if token not in en_stop]\n",
    "    tokens = [get_lemma(token) for token in tokens]\n",
    "    text = ' '.join(tokens)\n",
    "    tokens = nltk.word_tokenize(text)\n",
    "    tags = nltk.pos_tag(tokens)\n",
    "    tokens = [word for word,pos in tags if (pos == 'NN' or pos == 'NNP' or pos == 'NNS' or pos == 'NNPS' or pos == 'JJ' or pos == 'VB' or pos == 'RB')]\n",
    "    return tokens"
   ]
  },
  {
   "cell_type": "markdown",
   "metadata": {},
   "source": [
    "### we apply the cleaning steps on every comment"
   ]
  },
  {
   "cell_type": "code",
   "execution_count": 12,
   "metadata": {},
   "outputs": [],
   "source": [
    "data = [prepare_text_for_lda(comment) for comment in df.comment.values ]"
   ]
  },
  {
   "cell_type": "code",
   "execution_count": 13,
   "metadata": {},
   "outputs": [
    {
     "name": "stdout",
     "output_type": "stream",
     "text": [
      "[['maintainer'], ['omnibus', 'build', 'already', 'pain', 'merging'], ['client', 'core', 'reviewage', 'think', 'hard', 'breakpoint', 'resource', 'provider', 'code'], ['blow', 'allow', 'downgrade', 'need', 'figure', 'first', 'version', 'ubuntu', 'debian', 'safely', 'support', 'conditionally', 'flag'], ['know', 'granquist', 'unhappy', 'absolutely', 'short', 'term', 'choco', 'window', 'jenkins', 'system', 'failure']]\n"
     ]
    }
   ],
   "source": [
    "print(data[:5])"
   ]
  },
  {
   "cell_type": "markdown",
   "metadata": {},
   "source": [
    "### Adding bigrams\n",
    "We find bigrams in the documents. Bigrams are sets of two adjacent words. Using bigrams we can get phrases like \"machine_learning\" in our output (spaces are replaced with underscores); without bigrams we would only get \"machine\" and \"learning\".  The code below, we find bigrams and then add them to the original data, because we would like to keep the words \"machine\" and \"learning\" as well as the bigram \"machine_learning\"."
   ]
  },
  {
   "cell_type": "code",
   "execution_count": 14,
   "metadata": {},
   "outputs": [
    {
     "name": "stderr",
     "output_type": "stream",
     "text": [
      "/usr/local/lib/python3.6/dist-packages/gensim/models/phrases.py:598: UserWarning: For a faster implementation, use the gensim.models.phrases.Phraser class\n",
      "  warnings.warn(\"For a faster implementation, use the gensim.models.phrases.Phraser class\")\n"
     ]
    }
   ],
   "source": [
    "from gensim.models import Phrases\n",
    "\n",
    "# Add bigrams and trigrams to docs (if they appear more than 10 times).\n",
    "bigram = Phrases(data, min_count=10)\n",
    "for idx in range(len(data)):\n",
    "    for token in bigram[data[idx]]:\n",
    "        if '_' in token:\n",
    "            # Token is a bigram, add to document.\n",
    "            data[idx].append(token)"
   ]
  },
  {
   "cell_type": "markdown",
   "metadata": {},
   "source": [
    "Then we will create a cbow dictionnary and save it. We remove rare words and common words based on their document frequency. Below we remove words that appear in less than 20 documents or in more than 50% of the documents."
   ]
  },
  {
   "cell_type": "code",
   "execution_count": 15,
   "metadata": {},
   "outputs": [],
   "source": [
    "import gensim\n",
    "import pickle\n",
    "\n",
    "from gensim import corpora\n",
    "dictionary = corpora.Dictionary(data)\n",
    "dictionary.filter_extremes(no_below=20, no_above=0.5)\n",
    "corpus = [dictionary.doc2bow(text) for text in data]\n",
    "\n",
    "pickle.dump(corpus, open('corpus.pkl', 'wb'))\n",
    "dictionary.save('dictionary.gensim')"
   ]
  },
  {
   "cell_type": "markdown",
   "metadata": {},
   "source": [
    "# Building LDA model: for Topic modeling \n",
    "we will use Gensim to build and train the model\n",
    "\n",
    "\n",
    "### The following function apply a gridsearch to get the best LDA model using our corpus, the used metric is c_v coherence"
   ]
  },
  {
   "cell_type": "markdown",
   "metadata": {},
   "source": [
    "to find the optimal number of topics.We need to build many LDA models with different values of the number of topics (k) and pick the one that gives the highest coherence value."
   ]
  },
  {
   "cell_type": "code",
   "execution_count": 16,
   "metadata": {},
   "outputs": [],
   "source": [
    "def compute_coherence_values(dictionary, corpus, texts, limit, start=2, step=3):\n",
    "    \"\"\"\n",
    "    Compute c_v coherence for various number of topics\n",
    "\n",
    "    Parameters:\n",
    "    ----------\n",
    "    dictionary : Gensim dictionary\n",
    "    corpus : Gensim corpus\n",
    "    texts : List of input texts\n",
    "    limit : Max num of topics\n",
    "\n",
    "    Returns:\n",
    "    -------\n",
    "    model_list : List of LDA topic models\n",
    "    coherence_values : Coherence values corresponding to the LDA model with respective number of topics\n",
    "    \"\"\"\n",
    "    coherence_values = []\n",
    "    model_list = []\n",
    "    for num_topics in range(start, limit, step):\n",
    "        model=gensim.models.ldamodel.LdaModel(corpus=corpus,random_state=404, \n",
    "                                              per_word_topics =True,  passes=15 ,id2word=dictionary, num_topics=num_topics)\n",
    "        model_list.append(model)\n",
    "        coherencemodel = gensim.models.coherencemodel.CoherenceModel(model=model, texts=texts, dictionary=dictionary, coherence='c_v')\n",
    "        coherence_values.append(coherencemodel.get_coherence())\n",
    "\n",
    "    return model_list, coherence_values"
   ]
  },
  {
   "cell_type": "markdown",
   "metadata": {},
   "source": [
    "### Next we will display the results obtained: \n",
    "\n",
    "we see that 5 is the best number of topics to choose with a score 0.4206. Also 8 and 11 have a close scores."
   ]
  },
  {
   "cell_type": "code",
   "execution_count": 17,
   "metadata": {},
   "outputs": [
    {
     "data": {
      "image/png": "[encoded data removed]",
      "text/plain": [
       "<Figure size 432x288 with 1 Axes>"
      ]
     },
     "metadata": {
      "needs_background": "light"
     },
     "output_type": "display_data"
    }
   ],
   "source": [
    "model_list, coherence_values = compute_coherence_values(dictionary=dictionary, corpus=corpus, texts=data, start=2, limit=30, step=3)\n",
    "# Show graph\n",
    "import matplotlib.pyplot as plt\n",
    "%matplotlib inline \n",
    "limit=30; start=2; step=3;\n",
    "x = range(start, limit, step)\n",
    "plt.plot(x, coherence_values)\n",
    "plt.xlabel(\"Num Topics\")\n",
    "plt.ylabel(\"Coherence score\")\n",
    "plt.legend((\"coherence_values\"), loc='best')\n",
    "plt.show()"
   ]
  },
  {
   "cell_type": "code",
   "execution_count": 18,
   "metadata": {},
   "outputs": [
    {
     "name": "stdout",
     "output_type": "stream",
     "text": [
      "[0.3706380075958, 0.4206379226836261, 0.4048317097543631, 0.41898878247987315, 0.41990052139027206, 0.40322666768362014, 0.38945868777185433, 0.37109204670034246, 0.3719671154746367, 0.3960672257128306]\n",
      "the best coherence_values is: 0.4206379226836261\n"
     ]
    }
   ],
   "source": [
    "print(coherence_values)\n",
    "print('the best coherence_values is:', max(coherence_values))"
   ]
  },
  {
   "cell_type": "markdown",
   "metadata": {},
   "source": [
    "# Building and training the model"
   ]
  },
  {
   "cell_type": "code",
   "execution_count": 19,
   "metadata": {},
   "outputs": [
    {
     "name": "stdout",
     "output_type": "stream",
     "text": [
      "(0, '0.020*\"also\" + 0.019*\"need\" + 0.019*\"work\" + 0.017*\"value\"')\n",
      "(1, '0.037*\"test\" + 0.031*\"class\" + 0.027*\"commit\" + 0.023*\"method\"')\n",
      "(2, '0.148*\"thanks\" + 0.062*\"spring\" + 0.058*\"session\" + 0.035*\"master\"')\n",
      "(3, '0.072*\"please\" + 0.060*\"hibernate\" + 0.053*\"test\" + 0.044*\"spring\"')\n",
      "(4, '0.205*\"issue\" + 0.204*\"change\" + 0.200*\"code\" + 0.191*\"want\"')\n"
     ]
    }
   ],
   "source": [
    "NUM_TOPICS = 5\n",
    "ldamodel = gensim.models.ldamodel.LdaModel(corpus, num_topics = NUM_TOPICS, id2word=dictionary, passes=15,random_state=404,\n",
    "                                           per_word_topics =True)\n",
    "ldamodel.save('model5.gensim')\n",
    "\n",
    "topics = ldamodel.print_topics(num_words=4)\n",
    "for topic in topics:\n",
    "    print(topic)"
   ]
  },
  {
   "cell_type": "markdown",
   "metadata": {},
   "source": [
    "# Visualizing and interpreting the results\n",
    "\n",
    "we used pyLDAvis to visualize the model"
   ]
  },
  {
   "cell_type": "code",
   "execution_count": 20,
   "metadata": {},
   "outputs": [
    {
     "name": "stderr",
     "output_type": "stream",
     "text": [
      "/usr/local/lib/python3.6/dist-packages/pyLDAvis/_prepare.py:257: FutureWarning: Sorting because non-concatenation axis is not aligned. A future version\n",
      "of pandas will change to not sort by default.\n",
      "\n",
      "To accept the future behavior, pass 'sort=False'.\n",
      "\n",
      "To retain the current behavior and silence the warning, pass 'sort=True'.\n",
      "\n",
      "  return pd.concat([default_term_info] + list(topic_dfs))\n"
     ]
    },
    {
     "data": {
      "text/html": [
       "\n",
       "<link rel=\"stylesheet\" type=\"text/css\" href=\"https://cdn.rawgit.com/bmabey/pyLDAvis/files/ldavis.v1.0.0.css\">\n",
       "\n",
       "\n",
       "<div id=\"ldavis_el19113140652600420056154936932\"></div>\n",
       "<script type=\"text/javascript\">\n",
       "\n",
       "var ldavis_el19113140652600420056154936932_data = {\"mdsDat\": {\"x\": [0.11897869195029873, 0.149526813268224, 0.13188416269581316, 0.07906891192141706, -0.47945857983575263], \"y\": [0.19609221850110892, 0.15948949944103652, -0.06122954813282811, -0.32269354783886395, 0.028341378029546675], \"topics\": [1, 2, 3, 4, 5], \"cluster\": [1, 1, 1, 1, 1], \"Freq\": [35.74652099609375, 27.56865882873535, 20.268081665039062, 11.50261116027832, 4.914130210876465]}, \"tinfo\": {\"Category\": [\"Default\", \"Default\", \"Default\", \"Default\", \"Default\", \"Default\", \"Default\", \"Default\", \"Default\", \"Default\", \"Default\", \"Default\", \"Default\", \"Default\", \"Default\", \"Default\", \"Default\", \"Default\", \"Default\", \"Default\", \"Default\", \"Default\", \"Default\", \"Default\", \"Default\", \"Default\", \"Default\", \"Default\", \"Default\", \"Default\", \"Topic1\", \"Topic1\", \"Topic1\", \"Topic1\", \"Topic1\", \"Topic1\", \"Topic1\", \"Topic1\", \"Topic1\", \"Topic1\", \"Topic1\", \"Topic1\", \"Topic1\", \"Topic1\", \"Topic1\", \"Topic1\", \"Topic1\", \"Topic1\", \"Topic1\", \"Topic1\", \"Topic1\", \"Topic1\", \"Topic1\", \"Topic1\", \"Topic1\", \"Topic1\", \"Topic1\", \"Topic1\", \"Topic1\", \"Topic1\", \"Topic1\", \"Topic1\", \"Topic1\", \"Topic1\", \"Topic1\", \"Topic1\", \"Topic1\", \"Topic1\", \"Topic1\", \"Topic1\", \"Topic1\", \"Topic1\", \"Topic1\", \"Topic1\", \"Topic1\", \"Topic1\", \"Topic1\", \"Topic1\", \"Topic1\", \"Topic1\", \"Topic1\", \"Topic1\", \"Topic1\", \"Topic1\", \"Topic1\", \"Topic1\", \"Topic1\", \"Topic1\", \"Topic1\", \"Topic1\", \"Topic1\", \"Topic2\", \"Topic2\", \"Topic2\", \"Topic2\", \"Topic2\", \"Topic2\", \"Topic2\", \"Topic2\", \"Topic2\", \"Topic2\", \"Topic2\", \"Topic2\", \"Topic2\", \"Topic2\", \"Topic2\", \"Topic2\", \"Topic2\", \"Topic2\", \"Topic2\", \"Topic2\", \"Topic2\", \"Topic2\", \"Topic2\", \"Topic2\", \"Topic2\", \"Topic2\", \"Topic2\", \"Topic2\", \"Topic2\", \"Topic2\", \"Topic2\", \"Topic2\", \"Topic2\", \"Topic2\", \"Topic2\", \"Topic2\", \"Topic2\", \"Topic2\", \"Topic2\", \"Topic2\", \"Topic2\", \"Topic2\", \"Topic2\", \"Topic2\", \"Topic2\", \"Topic2\", \"Topic2\", \"Topic2\", \"Topic2\", \"Topic2\", \"Topic2\", \"Topic2\", \"Topic2\", \"Topic2\", \"Topic3\", \"Topic3\", \"Topic3\", \"Topic3\", \"Topic3\", \"Topic3\", \"Topic3\", \"Topic3\", \"Topic3\", \"Topic3\", \"Topic3\", \"Topic3\", \"Topic3\", \"Topic3\", \"Topic3\", \"Topic3\", \"Topic3\", \"Topic3\", \"Topic3\", \"Topic3\", \"Topic3\", \"Topic3\", \"Topic3\", \"Topic3\", \"Topic3\", \"Topic3\", \"Topic3\", \"Topic3\", \"Topic3\", \"Topic3\", \"Topic3\", \"Topic3\", \"Topic3\", \"Topic3\", \"Topic3\", \"Topic3\", \"Topic3\", \"Topic3\", \"Topic3\", \"Topic3\", \"Topic3\", \"Topic3\", \"Topic3\", \"Topic3\", \"Topic3\", \"Topic3\", \"Topic3\", \"Topic3\", \"Topic4\", \"Topic4\", \"Topic4\", \"Topic4\", \"Topic4\", \"Topic4\", \"Topic4\", \"Topic4\", \"Topic4\", \"Topic4\", \"Topic4\", \"Topic4\", \"Topic4\", \"Topic4\", \"Topic4\", \"Topic4\", \"Topic4\", \"Topic4\", \"Topic4\", \"Topic4\", \"Topic4\", \"Topic4\", \"Topic4\", \"Topic4\", \"Topic4\", \"Topic4\", \"Topic4\", \"Topic4\", \"Topic4\", \"Topic4\", \"Topic4\", \"Topic4\", \"Topic4\", \"Topic4\", \"Topic4\", \"Topic4\", \"Topic4\", \"Topic4\", \"Topic4\", \"Topic4\", \"Topic5\", \"Topic5\", \"Topic5\", \"Topic5\", \"Topic5\", \"Topic5\", \"Topic5\", \"Topic5\", \"Topic5\", \"Topic5\", \"Topic5\", \"Topic5\", \"Topic5\", \"Topic5\", \"Topic5\", \"Topic5\", \"Topic5\", \"Topic5\", \"Topic5\", \"Topic5\", \"Topic5\", \"Topic5\", \"Topic5\", \"Topic5\", \"Topic5\", \"Topic5\", \"Topic5\", \"Topic5\", \"Topic5\", \"Topic5\", \"Topic5\", \"Topic5\", \"Topic5\", \"Topic5\", \"Topic5\", \"Topic5\", \"Topic5\", \"Topic5\", \"Topic5\", \"Topic5\", \"Topic5\", \"Topic5\", \"Topic5\", \"Topic5\", \"Topic5\", \"Topic5\", \"Topic5\", \"Topic5\", \"Topic5\", \"Topic5\", \"Topic5\", \"Topic5\", \"Topic5\", \"Topic5\", \"Topic5\", \"Topic5\"], \"Freq\": [823.0, 441.0, 290.0, 271.0, 259.0, 258.0, 482.0, 322.0, 229.0, 191.0, 520.0, 235.0, 208.0, 128.0, 188.0, 115.0, 211.0, 108.0, 101.0, 175.0, 127.0, 87.0, 86.0, 125.0, 81.0, 110.0, 164.0, 195.0, 252.0, 129.0, 163.05593872070312, 153.04473876953125, 104.18838500976562, 59.60816192626953, 52.993431091308594, 46.88653564453125, 81.6915512084961, 44.99950408935547, 43.83586502075195, 41.32304000854492, 40.20394515991211, 39.39286422729492, 38.55845260620117, 37.73945999145508, 37.46042251586914, 36.88590621948242, 34.95466613769531, 45.94163131713867, 165.0013427734375, 33.31468200683594, 32.468135833740234, 31.64300537109375, 56.30131530761719, 29.15109634399414, 28.038345336914062, 188.05848693847656, 27.7567138671875, 39.68604278564453, 31.69477081298828, 26.112192153930664, 139.87387084960938, 59.40309524536133, 39.00407791137695, 138.84011840820312, 43.128509521484375, 186.41346740722656, 66.39034271240234, 97.48719787597656, 198.274658203125, 129.19175720214844, 84.96919250488281, 74.41039276123047, 48.052345275878906, 73.23381805419922, 89.22025299072266, 105.24396514892578, 85.85343933105469, 88.7939224243164, 88.0255355834961, 82.86236572265625, 129.7505645751953, 163.82305908203125, 60.354820251464844, 73.5818862915039, 84.57256317138672, 116.93684387207031, 71.52009582519531, 84.2298812866211, 85.56015014648438, 83.75994873046875, 74.2795181274414, 234.612548828125, 174.5825653076172, 88.52642822265625, 73.29635620117188, 72.74532318115234, 71.71089172363281, 68.3061752319336, 61.462894439697266, 55.68972396850586, 51.47677230834961, 50.168766021728516, 49.89674377441406, 46.51418685913086, 44.67224884033203, 43.62691116333008, 40.76055145263672, 40.722904205322266, 39.41694259643555, 36.28628158569336, 36.6674690246582, 57.16845703125, 32.59580612182617, 31.28560447692871, 39.411067962646484, 29.65073585510254, 28.134225845336914, 202.6673126220703, 26.03070640563965, 25.50198745727539, 26.71390724182129, 37.82355499267578, 49.21684265136719, 97.8252182006836, 84.02732849121094, 92.07772827148438, 147.51858520507812, 72.70589447021484, 282.8240051269531, 176.91067504882812, 75.3001708984375, 110.53931427001953, 67.96028900146484, 112.74434661865234, 133.9449920654297, 105.34404754638672, 101.668701171875, 75.0015869140625, 98.5426254272461, 75.11689758300781, 56.15873718261719, 66.62368774414062, 64.08081817626953, 59.09780502319336, 60.625823974609375, 822.4508666992188, 321.0477600097656, 126.82819366455078, 77.56983184814453, 78.93103790283203, 76.37452697753906, 70.99956512451172, 108.4170150756836, 55.812740325927734, 47.580101013183594, 47.799076080322266, 40.42570114135742, 38.6645622253418, 28.859031677246094, 25.894229888916016, 24.390777587890625, 24.342653274536133, 21.712886810302734, 192.01925659179688, 25.92068862915039, 22.901447296142578, 26.301237106323242, 37.93534469604492, 105.80620574951172, 25.132898330688477, 27.233856201171875, 34.68529510498047, 27.083309173583984, 31.01060676574707, 16.87406349182129, 343.6713562011719, 72.23981475830078, 64.99250030517578, 56.4315185546875, 145.99041748046875, 55.68092346191406, 78.18096923828125, 113.27256774902344, 75.26422119140625, 87.11431121826172, 37.15334701538086, 40.307533264160156, 36.91862487792969, 50.353878021240234, 50.52188491821289, 42.32106399536133, 52.0621452331543, 42.2945671081543, 228.37664794921875, 190.28811645507812, 114.64691925048828, 100.74663543701172, 86.24618530273438, 85.23412322998047, 80.72771453857422, 106.8480224609375, 68.08104705810547, 61.58024597167969, 55.64780044555664, 50.77632522583008, 48.882503509521484, 47.58124542236328, 38.320072174072266, 38.669803619384766, 28.825786590576172, 24.172901153564453, 23.212095260620117, 21.395423889160156, 20.158254623413086, 116.9400405883789, 49.795623779296875, 19.480321884155273, 23.662981033325195, 63.48237228393555, 16.736846923828125, 58.27638626098633, 83.55618286132812, 14.533746719360352, 18.07419776916504, 100.76808166503906, 47.65800857543945, 166.34686279296875, 53.745933532714844, 138.28355407714844, 32.30815887451172, 26.383712768554688, 25.874122619628906, 26.253158569335938, 269.76165771484375, 257.4132385253906, 257.6288146972656, 276.8878173828125, 274.971435546875, 0.029309073463082314, 0.029267126694321632, 0.029276341199874878, 0.029327400028705597, 0.029270818457007408, 0.02927546761929989, 0.029255811125040054, 0.029280291870236397, 0.029258476570248604, 0.029260404407978058, 0.02929098717868328, 0.02931777387857437, 0.02928006276488304, 0.02926923893392086, 0.029301833361387253, 0.029248442500829697, 0.02925374172627926, 0.029258184134960175, 0.029263773933053017, 0.02926243282854557, 0.029255710542201996, 0.0292547307908535, 0.029298260807991028, 0.029283780604600906, 0.02932778000831604, 0.03650807589292526, 0.029327834025025368, 0.029319051653146744, 0.029343241825699806, 0.02932201512157917, 0.029328010976314545, 0.029339667409658432, 0.029353972524404526, 0.029361095279455185, 0.029300890862941742, 0.02932872623205185, 0.02943323738873005, 0.029361378401517868, 0.029340580105781555, 0.02934013493359089, 0.02934006042778492, 0.02933613955974579, 0.02933323010802269, 0.029332315549254417, 0.029327822849154472, 0.02932686358690262, 0.02932574786245823, 0.029325436800718307, 0.029324971139431, 0.029324259608983994, 0.029323618859052658], \"Term\": [\"thanks\", \"change\", \"issue\", \"code\", \"want\", \"separate\", \"spring\", \"session\", \"please\", \"hibernate\", \"test\", \"class\", \"master\", \"error\", \"project\", \"jenkins\", \"commit\", \"search\", \"jenkins_please\", \"field\", \"spring_session\", \"module\", \"flush\", \"build\", \"bean\", \"sample\", \"default\", \"need\", \"look\", \"nice\", \"default\", \"index\", \"constraint\", \"node\", \"always\", \"behavior\", \"order\", \"pull_request\", \"wrong\", \"validation\", \"collection\", \"apply\", \"thread\", \"clear\", \"find\", \"later\", \"related\", \"understand\", \"value\", \"wait\", \"rule\", \"ticket\", \"operation\", \"kind\", \"expect\", \"need\", \"eventually\", \"logic\", \"clean\", \"flag\", \"implementation\", \"sense\", \"weird\", \"thing\", \"mind\", \"work\", \"approach\", \"make\", \"also\", \"something\", \"keep\", \"first\", \"quite\", \"even\", \"user\", \"time\", \"request\", \"really\", \"annotation\", \"configuration\", \"case\", \"change\", \"sorry\", \"property\", \"still\", \"method\", \"different\", \"maybe\", \"sure\", \"think\", \"example\", \"class\", \"field\", \"public\", \"line\", \"analyzer\", \"commits\", \"return\", \"service\", \"document\", \"bridge\", \"lucene\", \"element\", \"open\", \"number\", \"private\", \"string\", \"performance\", \"especially\", \"close\", \"metadata\", \"static\", \"force\", \"purpose\", \"resource\", \"definition\", \"push\", \"commit\", \"particular\", \"array\", \"link\", \"pas\", \"actual\", \"check\", \"interface\", \"remove\", \"name\", \"instead\", \"test\", \"method\", \"query\", \"right\", \"reference\", \"sure\", \"case\", \"think\", \"type\", \"file\", \"maybe\", \"comment\", \"null\", \"update\", \"well\", \"parameter\", \"look\", \"thanks\", \"session\", \"spring_session\", \"thanks_master\", \"great\", \"boot\", \"doc\", \"sample\", \"look_good\", \"spring_boot\", \"minor\", \"security\", \"hazelcast\", \"mongo\", \"snapshot\", \"take_look\", \"cool\", \"closing\", \"master\", \"gradle\", \"polish\", \"redis\", \"spring_data\", \"nice\", \"ensure\", \"applied\", \"rest\", \"feedback\", \"application\", \"section\", \"spring\", \"data\", \"merge\", \"release\", \"look\", \"attribute\", \"version\", \"good\", \"update\", \"project\", \"review\", \"integration\", \"branch\", \"work\", \"also\", \"configuration\", \"test\", \"comment\", \"please\", \"hibernate\", \"jenkins\", \"jenkins_please\", \"module\", \"flush\", \"bean\", \"search\", \"sign\", \"license\", \"hibernate_search\", \"contributor\", \"failure\", \"consistent\", \"validator\", \"server\", \"contributor_license\", \"status\", \"infinispan\", \"manually\", \"frequently\", \"error\", \"thank\", \"sync\", \"chance\", \"dependency\", \"blob_master\", \"exception\", \"build\", \"sound\", \"rebase\", \"project\", \"spring_project\", \"test\", \"java\", \"spring\", \"question\", \"available\", \"true\", \"name\", \"code\", \"separate\", \"want\", \"issue\", \"change\", \"couple\", \"locally\", \"completely\", \"initial\", \"moment\", \"real\", \"findbyindexnamesessionrepository\", \"benefit\", \"frequently\", \"consistency\", \"read\", \"come\", \"automatically\", \"unfortunately\", \"handle\", \"manually\", \"sound\", \"optional\", \"make_sense\", \"opinion\", \"closing\", \"blob_master\", \"course\", \"section\", \"match\", \"metadata\", \"plan\", \"indeed\", \"eclipse\", \"others\", \"solve\", \"base\", \"polish\", \"rebase\", \"infinispan\", \"several\", \"jira\", \"bekhta\", \"apply\", \"github\", \"yeah\", \"ticket\", \"consistent\", \"happy\", \"message\", \"original\", \"back\", \"actual\", \"later\", \"help\", \"level\"], \"Total\": [823.0, 441.0, 290.0, 271.0, 259.0, 258.0, 482.0, 322.0, 229.0, 191.0, 520.0, 235.0, 208.0, 128.0, 188.0, 115.0, 211.0, 108.0, 101.0, 175.0, 127.0, 87.0, 86.0, 125.0, 81.0, 110.0, 164.0, 195.0, 252.0, 129.0, 164.1681671142578, 154.18321228027344, 105.30089569091797, 60.71830749511719, 54.10658264160156, 47.99699783325195, 83.67958068847656, 46.11319351196289, 44.9494743347168, 42.43089294433594, 41.322235107421875, 40.51076126098633, 39.68523025512695, 38.85309600830078, 38.57902526855469, 38.01300048828125, 36.073577880859375, 47.4260368347168, 170.5130615234375, 34.430267333984375, 33.58376693725586, 32.757171630859375, 58.3597526550293, 30.259891510009766, 29.152366638183594, 195.63113403320312, 28.87702178955078, 41.32828903198242, 33.03828811645508, 27.21918296813965, 156.05075073242188, 64.1926040649414, 41.4676399230957, 165.0682373046875, 46.49112319946289, 237.57595825195312, 75.2899169921875, 119.74267578125, 289.6350402832031, 177.6524658203125, 107.22248840332031, 97.25202941894531, 54.053924560546875, 97.92211151123047, 134.0304412841797, 171.15467834472656, 129.2017059326172, 136.55426025390625, 137.02606201171875, 125.92599487304688, 264.47760009765625, 441.27178955078125, 76.99057006835938, 109.83267974853516, 143.55186462402344, 295.7169494628906, 110.82726287841797, 183.5572967529297, 199.17481994628906, 189.88690185546875, 126.50471496582031, 235.8873748779297, 175.7196044921875, 89.65132904052734, 74.42021179199219, 73.86579895019531, 72.8577651977539, 69.43502044677734, 62.605716705322266, 56.81728744506836, 52.60014724731445, 51.296966552734375, 51.023170471191406, 47.648128509521484, 45.79628372192383, 44.754127502441406, 41.88639450073242, 41.8610725402832, 40.543582916259766, 37.41543960571289, 37.83333969116211, 59.04117965698242, 33.719966888427734, 32.41685485839844, 40.858558654785156, 30.829015731811523, 29.262020111083984, 211.2705078125, 27.172048568725586, 26.629749298095703, 27.981611251831055, 39.874149322509766, 52.69853210449219, 109.50198364257812, 93.77029418945312, 112.19285583496094, 215.70806884765625, 92.6700668334961, 520.3390502929688, 295.7169494628906, 103.12471771240234, 179.051513671875, 92.03773498535156, 199.17481994628906, 264.47760009765625, 189.88690185546875, 188.0293426513672, 111.67233276367188, 183.5572967529297, 158.00411987304688, 71.49478149414062, 142.66722106933594, 141.01487731933594, 119.79473114013672, 252.90904235839844, 823.5488891601562, 322.1554260253906, 127.94634246826172, 78.64453887939453, 80.0256118774414, 77.45881652832031, 72.09708404541016, 110.15291595458984, 56.894386291503906, 48.65621566772461, 48.88975143432617, 41.52988052368164, 39.74677276611328, 29.946964263916016, 26.97307777404785, 25.477645874023438, 25.45368003845215, 22.79779815673828, 208.0324249267578, 28.08987808227539, 27.050872802734375, 31.444183349609375, 46.271583557128906, 129.7142333984375, 32.18579864501953, 35.894447326660156, 46.97185516357422, 37.02690887451172, 42.71804428100586, 23.304344177246094, 482.6524963378906, 100.85690307617188, 91.45568084716797, 80.23770904541016, 252.90904235839844, 81.8779067993164, 142.79420471191406, 240.20945739746094, 142.66722106933594, 188.5826873779297, 54.30963897705078, 66.56684875488281, 68.50482940673828, 237.57595825195312, 289.6350402832031, 125.92599487304688, 520.3390502929688, 158.00411987304688, 229.45782470703125, 191.359130859375, 115.70679473876953, 101.80587005615234, 87.31331634521484, 86.30718994140625, 81.81376647949219, 108.48233032226562, 69.14289093017578, 62.64088439941406, 56.71281433105469, 51.83753967285156, 49.95012283325195, 48.673213958740234, 39.397647857666016, 39.765541076660156, 29.88579750061035, 25.238576889038086, 24.285903930664062, 22.46263313293457, 21.22101593017578, 128.68862915039062, 60.7065315246582, 24.756704330444336, 30.16316032409668, 84.98678588867188, 22.866924285888672, 82.8652572631836, 125.50667572021484, 22.470712661743164, 28.246929168701172, 188.5826873779297, 85.27995300292969, 520.3390502929688, 106.87513732910156, 482.6524963378906, 74.65431213378906, 49.353878021240234, 46.74672317504883, 215.70806884765625, 271.1910400390625, 258.8271484375, 259.0453796386719, 290.4412536621094, 441.27178955078125, 19.979164123535156, 19.960439682006836, 20.319414138793945, 20.442686080932617, 20.522432327270508, 20.527673721313477, 20.587337493896484, 20.688621520996094, 21.22101593017578, 21.332942962646484, 21.998655319213867, 22.13050079345703, 22.114709854125977, 22.24645233154297, 22.345674514770508, 22.46263313293457, 22.470712661743164, 22.500165939331055, 22.50663185119629, 22.751298904418945, 22.79779815673828, 22.866924285888672, 23.125812530517578, 23.304344177246094, 23.438676834106445, 37.83333969116211, 23.492055892944336, 23.702043533325195, 24.305606842041016, 24.19487953186035, 24.773067474365234, 25.55741310119629, 27.050872802734375, 28.246929168701172, 24.285903930664062, 26.722543716430664, 49.54240036010742, 68.63688659667969, 40.51076126098633, 38.249671936035156, 37.27193832397461, 32.757171630859375, 48.673213958740234, 47.48442459106445, 49.30865478515625, 38.470333099365234, 35.22254180908203, 52.69853210449219, 38.01300048828125, 30.771587371826172, 31.686758041381836], \"loglift\": [30.0, 29.0, 28.0, 27.0, 26.0, 25.0, 24.0, 23.0, 22.0, 21.0, 20.0, 19.0, 18.0, 17.0, 16.0, 15.0, 14.0, 13.0, 12.0, 11.0, 10.0, 9.0, 8.0, 7.0, 6.0, 5.0, 4.0, 3.0, 2.0, 1.0, 1.0219000577926636, 1.021299958229065, 1.0181000232696533, 1.0103000402450562, 1.0078999996185303, 1.0053000450134277, 1.004699945449829, 1.0042999982833862, 1.003600001335144, 1.0023000240325928, 1.0012999773025513, 1.0006999969482422, 0.9998999834060669, 0.9995999932289124, 0.9993000030517578, 0.9986000061035156, 0.9972000122070312, 0.9969000220298767, 0.9958999752998352, 0.9958000183105469, 0.9948999881744385, 0.9940999746322632, 0.9927999973297119, 0.9914000034332275, 0.989799976348877, 0.9891999959945679, 0.9890999794006348, 0.9882000088691711, 0.9872000217437744, 0.9872000217437744, 0.9193000197410583, 0.951200008392334, 0.9674999713897705, 0.8557000160217285, 0.9535999894142151, 0.7861999869346619, 0.902899980545044, 0.8230999708175659, 0.6496999859809875, 0.7102000117301941, 0.7961000204086304, 0.7609999775886536, 0.9110000133514404, 0.7382000088691711, 0.6218000054359436, 0.5424000024795532, 0.6200000047683716, 0.5982999801635742, 0.5861999988555908, 0.6101999878883362, 0.3165999948978424, 0.03779999911785126, 0.7853000164031982, 0.6281999945640564, 0.49959999322891235, 0.10090000182390213, 0.5906999707221985, 0.24969999492168427, 0.18379999697208405, 0.2101999968290329, 0.49630001187324524, 1.2831000089645386, 1.281999945640564, 1.2759000062942505, 1.273300051689148, 1.2732000350952148, 1.2726000547409058, 1.2720999717712402, 1.2700999975204468, 1.268399953842163, 1.2668999433517456, 1.2662999629974365, 1.2661999464035034, 1.2644000053405762, 1.2635999917984009, 1.2630000114440918, 1.261199951171875, 1.2609000205993652, 1.2603000402450562, 1.2577999830245972, 1.257200002670288, 1.2562999725341797, 1.2546000480651855, 1.253000020980835, 1.2524000406265259, 1.249500036239624, 1.2491999864578247, 1.246899962425232, 1.2455999851226807, 1.2452000379562378, 1.2421000003814697, 1.235700011253357, 1.2201000452041626, 1.1756999492645264, 1.1787999868392944, 1.09089994430542, 0.9085000157356262, 1.0458999872207642, 0.6787999868392944, 0.7746999859809875, 0.9739999771118164, 0.8062000274658203, 0.9851999878883362, 0.7193999886512756, 0.6082000136375427, 0.6992999911308289, 0.6736000180244446, 0.8903999924659729, 0.6664999723434448, 0.5449000000953674, 1.0470000505447388, 0.5270000100135803, 0.4997999966144562, 0.5819000005722046, -0.13979999721050262, 1.5947999954223633, 1.5927000045776367, 1.5872999429702759, 1.5823999643325806, 1.5823999643325806, 1.5820000171661377, 1.5808000564575195, 1.580199956893921, 1.5769000053405762, 1.573799967765808, 1.5736000537872314, 1.569200038909912, 1.56850004196167, 1.5591000318527222, 1.555299997329712, 1.5525000095367432, 1.5514999628067017, 1.5473999977111816, 1.5160000324249268, 1.5157999992370605, 1.4296000003814697, 1.4175000190734863, 1.3975000381469727, 1.3924000263214111, 1.3487999439239502, 1.3200000524520874, 1.2928999662399292, 1.283400058746338, 1.2757999897003174, 1.273300051689148, 1.256500005722046, 1.2624000310897827, 1.2545000314712524, 1.2441999912261963, 1.0465999841690063, 1.2105000019073486, 0.9937000274658203, 0.8443999886512756, 0.95660001039505, 0.8238000273704529, 1.2165000438690186, 1.094499945640564, 0.9779000282287598, 0.04470000043511391, -0.1500999927520752, 0.5056999921798706, -0.7059000134468079, 0.2782000005245209, 2.157900094985962, 2.1570000648498535, 2.15339994430542, 2.152100086212158, 2.1503000259399414, 2.150099992752075, 2.149199962615967, 2.14739990234375, 2.1470999717712402, 2.1454999446868896, 2.1435999870300293, 2.141900062561035, 2.1410000324249268, 2.139899969100952, 2.1349000930786133, 2.134700059890747, 2.126499891281128, 2.119499921798706, 2.1173999309539795, 2.1138999462127686, 2.1112000942230225, 2.0669000148773193, 1.9644999504089355, 1.9228999614715576, 1.9198999404907227, 1.87090003490448, 1.8504999876022339, 1.8106000423431396, 1.7558000087738037, 1.7268999814987183, 1.7160999774932861, 1.5358999967575073, 1.5807000398635864, 1.0221999883651733, 1.4752000570297241, 0.9125999808311462, 1.3250000476837158, 1.5362999439239502, 1.5710999965667725, 0.05649999901652336, 3.0078001022338867, 3.0076000690460205, 3.0076000690460205, 2.9653000831604004, 2.54010009765625, -3.5114998817443848, -3.51200008392334, -3.5295000076293945, -3.533799886703491, -3.539599895477295, -3.5397000312805176, -3.543299913406372, -3.5473999977111816, -3.573499917984009, -3.578700065612793, -3.6084001064300537, -3.6135001182556152, -3.614000082015991, -3.620300054550171, -3.623699903488159, -3.63070011138916, -3.6308999061584473, -3.6321001052856445, -3.632200002670288, -3.6429998874664307, -3.6452999114990234, -3.648400068283081, -3.658099889755249, -3.666300058364868, -3.670599937438965, -3.9303998947143555, -3.672800064086914, -3.681999921798706, -3.7063000202178955, -3.702500104904175, -3.7258999347686768, -3.756700038909912, -3.812999963760376, -3.8559999465942383, -3.7070000171661377, -3.8015999794006348, -4.41540002822876, -4.743800163269043, -4.217299938201904, -4.159900188446045, -4.133999824523926, -4.005000114440918, -4.401100158691406, -4.376399993896484, -4.414299964904785, -4.166100025177002, -4.077899932861328, -4.480800151824951, -4.154200077056885, -3.9428999423980713, -3.9721999168395996], \"logprob\": [30.0, 29.0, 28.0, 27.0, 26.0, 25.0, 24.0, 23.0, 22.0, 21.0, 20.0, 19.0, 18.0, 17.0, 16.0, 15.0, 14.0, 13.0, 12.0, 11.0, 10.0, 9.0, 8.0, 7.0, 6.0, 5.0, 4.0, 3.0, 2.0, 1.0, -4.096399784088135, -4.1596999168396, -4.544300079345703, -5.102700233459473, -5.220300197601318, -5.342700004577637, -4.787499904632568, -5.383800029754639, -5.409999847412109, -5.468999862670898, -5.496500015258789, -5.516900062561035, -5.538300037384033, -5.559800148010254, -5.567200183868408, -5.582600116729736, -5.63640022277832, -5.363100051879883, -4.084499835968018, -5.684500217437744, -5.71019983291626, -5.735899925231934, -5.1596999168396, -5.817999839782715, -5.856900215148926, -3.953700065612793, -5.867000102996826, -5.509500026702881, -5.734300136566162, -5.928100109100342, -4.24970006942749, -5.106100082397461, -5.526800155639648, -4.2571001052856445, -5.426300048828125, -3.9625000953674316, -4.994900226593018, -4.6107001304626465, -3.9007999897003174, -4.32919979095459, -4.748199939727783, -4.880899906158447, -5.31820011138916, -4.8968000411987305, -4.6992998123168945, -4.534200191497803, -4.737800121307373, -4.704100131988525, -4.712800025939941, -4.7733001708984375, -4.32480001449585, -4.091700077056885, -5.090199947357178, -4.892099857330322, -4.752799987792969, -4.428800106048584, -4.920499801635742, -4.756899833679199, -4.741199970245361, -4.762499809265137, -4.882599830627441, -3.4727001190185547, -3.7683000564575195, -4.447400093078613, -4.636199951171875, -4.643700122833252, -4.6579999923706055, -4.706699848175049, -4.81220006942749, -4.910900115966797, -4.98960018157959, -5.0152997970581055, -5.020699977874756, -5.09089994430542, -5.13129997253418, -5.15500020980835, -5.2230000495910645, -5.223899841308594, -5.256499767303467, -5.339200019836426, -5.328800201416016, -4.884699821472168, -5.446499824523926, -5.487500190734863, -5.2565999031066895, -5.541200160980225, -5.593699932098389, -3.6191000938415527, -5.67140007019043, -5.69189977645874, -5.645500183105469, -5.297800064086914, -5.03439998626709, -4.347499847412109, -4.499499797821045, -4.408100128173828, -3.9367001056671143, -4.6442999839782715, -3.285900115966797, -3.755000114440918, -4.6092000007629395, -4.225299835205078, -4.7118000984191895, -4.205599784851074, -4.033299922943115, -4.273499965667725, -4.309000015258789, -4.6132001876831055, -4.340199947357178, -4.611599922180176, -4.902500152587891, -4.731599807739258, -4.770500183105469, -4.851500034332275, -4.826000213623047, -1.9107999801635742, -2.8515000343322754, -3.7802000045776367, -4.271900177001953, -4.254499912261963, -4.287399768829346, -4.360400199890137, -3.9370999336242676, -4.60099983215332, -4.7606000900268555, -4.75600004196167, -4.923600196838379, -4.968100070953369, -5.2606000900268555, -5.36899995803833, -5.428800106048584, -5.430799961090088, -5.545100212097168, -3.365499973297119, -5.368000030517578, -5.4918999671936035, -5.353400230407715, -4.987199783325195, -3.961400032043457, -5.398900032043457, -5.318600177764893, -5.076700210571289, -5.324100017547607, -5.188700199127197, -5.797299861907959, -2.783400058746338, -4.343100070953369, -4.448800086975098, -4.590000152587891, -3.6394999027252197, -4.603400230407715, -4.263999938964844, -3.8933000564575195, -4.302000045776367, -4.155799865722656, -5.007999897003174, -4.926499843597412, -5.0142998695373535, -4.703999996185303, -4.7006001472473145, -4.877799987792969, -4.670599937438965, -4.878399848937988, -2.6256000995635986, -2.808000087738037, -3.31469988822937, -3.444000005722046, -3.599400043487549, -3.6112000942230225, -3.6654999256134033, -3.385200023651123, -3.835900068283081, -3.936199903488159, -4.037499904632568, -4.1290998458862305, -4.167200088500977, -4.1940999031066895, -4.410600185394287, -4.401500225067139, -4.695300102233887, -4.871300220489502, -4.911900043487549, -4.9934000968933105, -5.052999973297119, -3.2948999404907227, -4.14870023727417, -5.087200164794922, -4.8927001953125, -3.9058001041412354, -5.238999843597412, -3.9914000034332275, -3.6310999393463135, -5.380099773406982, -5.162099838256836, -3.4437999725341797, -4.192500114440918, -2.942500114440918, -4.072299957275391, -3.1273000240325928, -4.581299781799316, -4.78380012512207, -4.803299903869629, -4.78879976272583, -1.6086000204086304, -1.655400037765503, -1.6546000242233276, -1.5824999809265137, -1.5894999504089355, -10.736000061035156, -10.73740005493164, -10.737099647521973, -10.735400199890137, -10.737299919128418, -10.737099647521973, -10.737799644470215, -10.737000465393066, -10.737700462341309, -10.737600326538086, -10.736599922180176, -10.735699653625488, -10.737000465393066, -10.737299919128418, -10.736200332641602, -10.73799991607666, -10.737899780273438, -10.737700462341309, -10.737500190734863, -10.737600326538086, -10.737799644470215, -10.737799644470215, -10.736300468444824, -10.736800193786621, -10.735300064086914, -10.516300201416016, -10.735300064086914, -10.735600471496582, -10.734800338745117, -10.73550033569336, -10.735300064086914, -10.73490047454834, -10.734399795532227, -10.734199523925781, -10.736300468444824, -10.735300064086914, -10.73169994354248, -10.734199523925781, -10.73490047454834, -10.73490047454834, -10.73490047454834, -10.735099792480469, -10.735199928283691, -10.735199928283691, -10.735300064086914, -10.735400199890137, -10.735400199890137, -10.735400199890137, -10.735400199890137, -10.73550033569336, -10.73550033569336]}, \"token.table\": {\"Topic\": [2, 4, 1, 2, 3, 1, 2, 1, 2, 3, 4, 1, 2, 3, 1, 3, 1, 1, 2, 3, 2, 1, 2, 3, 2, 3, 1, 3, 4, 1, 3, 1, 4, 1, 1, 2, 3, 1, 2, 3, 3, 4, 3, 1, 2, 3, 2, 1, 3, 4, 1, 2, 1, 4, 1, 2, 3, 5, 2, 3, 2, 1, 1, 2, 3, 5, 1, 1, 2, 1, 2, 3, 1, 2, 2, 1, 3, 1, 3, 1, 3, 4, 1, 4, 4, 3, 2, 3, 1, 2, 1, 3, 4, 1, 2, 3, 4, 1, 2, 3, 3, 2, 1, 3, 2, 1, 3, 2, 4, 2, 1, 2, 3, 1, 1, 2, 3, 2, 4, 1, 4, 1, 3, 2, 1, 2, 4, 1, 1, 1, 2, 4, 1, 4, 2, 4, 1, 2, 1, 2, 3, 1, 3, 3, 2, 4, 1, 2, 3, 3, 2, 3, 4, 4, 1, 2, 3, 1, 3, 4, 1, 4, 1, 2, 3, 4, 1, 2, 3, 3, 4, 1, 2, 2, 3, 5, 1, 2, 3, 4, 4, 4, 1, 2, 1, 2, 3, 1, 1, 2, 3, 4, 2, 2, 3, 1, 3, 4, 1, 2, 1, 2, 3, 3, 2, 1, 2, 1, 4, 3, 4, 1, 2, 3, 1, 2, 1, 2, 3, 4, 2, 3, 2, 1, 2, 4, 1, 3, 3, 4, 1, 3, 4, 3, 1, 2, 4, 1, 3, 1, 3, 1, 1, 2, 2, 2, 1, 4, 1, 2, 3, 1, 1, 2, 1, 2, 3, 1, 2, 4, 1, 2, 2, 2, 3, 2, 1, 3, 4, 1, 3, 2, 3, 4, 1, 2, 4, 2, 1, 2, 2, 1, 2, 4, 1, 2, 3, 4, 1, 2, 3, 1, 2, 2, 3, 1, 2, 2, 4, 1, 3, 2, 3, 4, 1, 1, 3, 1, 2, 1, 2, 3, 4, 1, 2, 1, 3, 2, 1, 3, 1, 2, 1, 3, 4, 2, 4, 2, 3, 3, 1, 4, 5, 4, 2, 3, 1, 2, 4, 3, 1, 2, 1, 2, 3, 1, 2, 3, 2, 4, 3, 4, 3, 3, 4, 3, 4, 3, 2, 3, 4, 1, 2, 3, 4, 2, 1, 2, 1, 4, 3, 1, 2, 3, 4, 3, 4, 3, 3, 1, 2, 3, 1, 2, 1, 1, 1, 2, 3, 2, 4, 1, 2, 4, 1, 2, 1, 2, 3, 1, 2, 3, 1, 4, 1, 2, 1, 2, 3, 1, 5, 1, 4, 1, 2, 3, 1, 3, 1, 1, 2], \"Freq\": [0.9298171997070312, 0.05692758038640022, 0.68361896276474, 0.13810484111309052, 0.17608366906642914, 0.9795480966567993, 0.9882787466049194, 0.6422135829925537, 0.3138089179992676, 0.007297881878912449, 0.03648940846323967, 0.09363724291324615, 0.1872744858264923, 0.725688636302948, 0.2228756994009018, 0.752205491065979, 0.9627071619033813, 0.8766114115715027, 0.07969194650650024, 0.03984597325325012, 0.9763516783714294, 0.12213306874036789, 0.19541290402412415, 0.6839451789855957, 0.6782815456390381, 0.31653138995170593, 0.26340383291244507, 0.18235649168491364, 0.5268076658248901, 0.5110363960266113, 0.4826454520225525, 0.9390621781349182, 0.9900534152984619, 0.9792279005050659, 0.14569425582885742, 0.36423563957214355, 0.48079103231430054, 0.6283647418022156, 0.14500723779201508, 0.19334299862384796, 0.21865643560886383, 0.7434318661689758, 0.9811665415763855, 0.321145236492157, 0.13137759268283844, 0.5401079058647156, 0.9695790410041809, 0.07170933485031128, 0.26293420791625977, 0.6692870855331421, 0.4915350079536438, 0.5066591501235962, 0.1989181488752365, 0.795672595500946, 0.3716530501842499, 0.002266176976263523, 0.002266176976263523, 0.6231986880302429, 0.8949609398841858, 0.10045479983091354, 0.996238112449646, 0.9685732126235962, 0.9780430197715759, 0.9621696472167969, 0.9650054574012756, 0.9956080913543701, 0.9680018424987793, 0.40667855739593506, 0.5422380566596985, 0.25315794348716736, 0.4746711552143097, 0.2658158540725708, 0.03786614537239075, 0.9608534574508667, 0.9882268309593201, 0.9350663423538208, 0.049214016646146774, 0.6591172814369202, 0.3335292339324951, 0.79688960313797, 0.18750342726707458, 0.9861686825752258, 0.9876459240913391, 0.9838429689407349, 0.9703605771064758, 0.9428892135620117, 0.5505735874176025, 0.4504692852497101, 0.7783510088920593, 0.17296689748764038, 0.01983007602393627, 0.7138827443122864, 0.2577909827232361, 0.9928843379020691, 0.973109245300293, 0.24709723889827728, 0.7412917017936707, 0.6496596336364746, 0.3428759276866913, 0.009023050777614117, 0.9847832322120667, 0.9856154918670654, 0.69942706823349, 0.28799939155578613, 0.9799469709396362, 0.1864176243543625, 0.7767400741577148, 0.08547763526439667, 0.9091712236404419, 0.9619278311729431, 0.7454904317855835, 0.2042439579963684, 0.0510609894990921, 0.9696290493011475, 0.5849584341049194, 0.2371453046798706, 0.17390656471252441, 0.289626806974411, 0.6999314427375793, 0.9604709148406982, 0.9809785485267639, 0.2430664747953415, 0.7291994094848633, 0.995904803276062, 0.25073355436325073, 0.6716077327728271, 0.07163815945386887, 0.9590703845024109, 0.9228973984718323, 0.7609095573425293, 0.2262163609266281, 0.010282562114298344, 0.9552086591720581, 0.9848542213439941, 0.9786486625671387, 0.9424619674682617, 0.4183042347431183, 0.5490243434906006, 0.291412353515625, 0.23312987387180328, 0.47042277455329895, 0.03560001030564308, 0.9256002902984619, 0.9871839284896851, 0.7607736587524414, 0.22375695407390594, 0.3158930540084839, 0.21059536933898926, 0.4633098244667053, 0.9812117218971252, 0.5524576902389526, 0.4224676489830017, 0.9928975105285645, 0.9874311685562134, 0.8971440196037292, 0.07689806073904037, 0.025632686913013458, 0.6328568458557129, 0.16876181960105896, 0.16876181960105896, 0.9923259615898132, 0.9470514059066772, 0.4891725182533264, 0.342420756816864, 0.0489172488451004, 0.1467517465353012, 0.17265553772449493, 0.7877408862113953, 0.032372914254665375, 0.6008996963500977, 0.390584796667099, 0.0959792211651802, 0.895806074142456, 0.0413164459168911, 0.003443037159740925, 0.953721284866333, 0.03742685168981552, 0.3181282579898834, 0.14035069942474365, 0.5052624940872192, 0.9938914775848389, 0.992084264755249, 0.3431404232978821, 0.6459113955497742, 0.7927441596984863, 0.11191681772470474, 0.0839376151561737, 0.9583643078804016, 0.9733511805534363, 0.7258552312850952, 0.252471387386322, 0.989768922328949, 0.9809163212776184, 0.96491938829422, 0.03573775663971901, 0.8516846299171448, 0.050099097192287445, 0.10019819438457489, 0.9678600430488586, 0.024196501821279526, 0.1818835735321045, 0.24119342863559723, 0.5772826671600342, 0.9842798709869385, 0.9747164845466614, 0.8100703954696655, 0.1753760725259781, 0.9330583214759827, 0.9348859190940857, 0.922933042049408, 0.07210414111614227, 0.29865166544914246, 0.5546388030052185, 0.17065809667110443, 0.457622766494751, 0.539341151714325, 0.021868515759706497, 0.24055367708206177, 0.7107267379760742, 0.032802775502204895, 0.7706558108329773, 0.20280414819717407, 0.9779734015464783, 0.3956485986709595, 0.5985453128814697, 0.0033816120121628046, 0.9249077439308167, 0.0645284503698349, 0.9818008542060852, 0.9849585890769958, 0.8283618688583374, 0.09745433181524277, 0.048727165907621384, 0.9683786034584045, 0.19470760226249695, 0.6861124634742737, 0.12053327262401581, 0.9609922170639038, 0.0357816256582737, 0.17731285095214844, 0.8171809315681458, 0.9881698489189148, 0.20980551838874817, 0.7832739353179932, 0.9826124906539917, 0.9863976240158081, 0.9595654010772705, 0.017135096713900566, 0.6593030095100403, 0.17581413686275482, 0.13186059892177582, 0.9333264231681824, 0.9799284338951111, 0.011950346641242504, 0.7798216938972473, 0.20795245468616486, 0.025994056835770607, 0.5786348581314087, 0.24798636138439178, 0.16532424092292786, 0.5008567571640015, 0.492509126663208, 0.956865668296814, 0.9529983997344971, 0.02507890574634075, 0.9794302582740784, 0.6810812950134277, 0.29797306656837463, 0.9936466813087463, 0.11090215295553207, 0.8502498269081116, 0.983149528503418, 0.4613361060619354, 0.5355740785598755, 0.6737521290779114, 0.31866654753685, 0.009104758501052856, 0.9927348494529724, 0.975859522819519, 0.9562926292419434, 0.956871747970581, 0.1648489385843277, 0.7272747159004211, 0.10666695982217789, 0.3750620484352112, 0.0937655121088028, 0.0937655121088028, 0.4286423623561859, 0.8880020976066589, 0.01850004494190216, 0.07400017976760864, 0.3182012736797333, 0.6364025473594666, 0.5358619689941406, 0.4384325444698334, 0.6517555713653564, 0.3441855311393738, 0.3186187148094177, 0.6372374296188354, 0.12720954418182373, 0.8268619775772095, 0.7388274073600769, 0.24989749491214752, 0.010865109041333199, 0.9702392220497131, 0.2866482734680176, 0.6979262232780457, 0.1693512499332428, 0.8200165629386902, 0.6656258702278137, 0.06965852528810501, 0.11609753966331482, 0.14705687761306763, 0.024474676698446274, 0.954512357711792, 0.2554721236228943, 0.7451270818710327, 0.9793329238891602, 0.294607013463974, 0.6812787055969238, 0.37977898120880127, 0.6199333071708679, 0.9528412818908691, 0.980455219745636, 0.00907828938215971, 0.009218091145157814, 0.9863357543945312, 0.257462739944458, 0.7294777035713196, 0.9631619453430176, 0.9191089868545532, 0.062312472611665726, 0.9929406642913818, 0.9807486534118652, 0.9743519425392151, 0.9964134693145752, 0.6361669898033142, 0.33679428696632385, 0.983470618724823, 0.9639241099357605, 0.5651298761367798, 0.40366417169570923, 0.7261368632316589, 0.21390077471733093, 0.0562896765768528, 0.779316246509552, 0.15586324036121368, 0.05195441469550133, 0.3115166127681732, 0.6675355434417725, 0.7127280831336975, 0.28591999411582947, 0.9865131974220276, 0.8212383985519409, 0.17289228737354279, 0.43386515974998474, 0.5628520846366882, 0.992603600025177, 0.9654278755187988, 0.01693733036518097, 0.9509252309799194, 0.5921204686164856, 0.2507804334163666, 0.13235634565353394, 0.027864493429660797, 0.9788381457328796, 0.43178150057792664, 0.5673407912254333, 0.20196549594402313, 0.7674688696861267, 0.9420022368431091, 0.036514654755592346, 0.5438761711120605, 0.09993483871221542, 0.3190227746963501, 0.16472692787647247, 0.8236346244812012, 0.9981192350387573, 0.9918044209480286, 0.8420760035514832, 0.10904581099748611, 0.048464804887771606, 0.44236859679222107, 0.5529607534408569, 0.9827333688735962, 0.9768853187561035, 0.6134801506996155, 0.22786405682563782, 0.15190938115119934, 0.42783746123313904, 0.556188702583313, 0.37228232622146606, 0.5424685478210449, 0.08509310334920883, 0.9699313640594482, 0.0210854634642601, 0.9439707398414612, 0.4696243405342102, 0.5256989002227783, 0.6640282273292542, 0.19398577511310577, 0.13429784774780273, 0.9662771224975586, 0.9645245671272278, 0.967667818069458, 0.029323266819119453, 0.3641604483127594, 0.09104011207818985, 0.5462406277656555, 0.9584590196609497, 0.9959644675254822, 0.9404923915863037, 0.048230379819869995, 0.37584686279296875, 0.4538528323173523, 0.1631033569574356, 0.7829074859619141, 0.21045900881290436, 0.9788768291473389, 0.21463869512081146, 0.7512354254722595], \"Term\": [\"actual\", \"actual\", \"also\", \"also\", \"also\", \"always\", \"analyzer\", \"annotation\", \"annotation\", \"annotation\", \"annotation\", \"application\", \"application\", \"application\", \"applied\", \"applied\", \"apply\", \"approach\", \"approach\", \"approach\", \"array\", \"attribute\", \"attribute\", \"attribute\", \"automatically\", \"automatically\", \"available\", \"available\", \"available\", \"back\", \"back\", \"base\", \"bean\", \"behavior\", \"bekhta\", \"bekhta\", \"bekhta\", \"benefit\", \"benefit\", \"benefit\", \"blob_master\", \"blob_master\", \"boot\", \"branch\", \"branch\", \"branch\", \"bridge\", \"build\", \"build\", \"build\", \"case\", \"case\", \"chance\", \"chance\", \"change\", \"change\", \"change\", \"change\", \"check\", \"check\", \"class\", \"clean\", \"clear\", \"close\", \"closing\", \"code\", \"collection\", \"come\", \"come\", \"comment\", \"comment\", \"comment\", \"commit\", \"commit\", \"commits\", \"completely\", \"completely\", \"configuration\", \"configuration\", \"consistency\", \"consistency\", \"consistent\", \"constraint\", \"contributor\", \"contributor_license\", \"cool\", \"couple\", \"couple\", \"course\", \"course\", \"data\", \"data\", \"data\", \"default\", \"definition\", \"dependency\", \"dependency\", \"different\", \"different\", \"different\", \"doc\", \"document\", \"eclipse\", \"eclipse\", \"element\", \"ensure\", \"ensure\", \"error\", \"error\", \"especially\", \"even\", \"even\", \"even\", \"eventually\", \"example\", \"example\", \"example\", \"exception\", \"exception\", \"expect\", \"failure\", \"feedback\", \"feedback\", \"field\", \"file\", \"file\", \"file\", \"find\", \"findbyindexnamesessionrepository\", \"first\", \"first\", \"first\", \"flag\", \"flush\", \"force\", \"frequently\", \"github\", \"github\", \"good\", \"good\", \"good\", \"gradle\", \"gradle\", \"great\", \"handle\", \"handle\", \"happy\", \"happy\", \"happy\", \"hazelcast\", \"help\", \"help\", \"hibernate\", \"hibernate_search\", \"implementation\", \"implementation\", \"implementation\", \"indeed\", \"indeed\", \"indeed\", \"index\", \"infinispan\", \"initial\", \"initial\", \"initial\", \"initial\", \"instead\", \"instead\", \"instead\", \"integration\", \"integration\", \"interface\", \"interface\", \"issue\", \"issue\", \"issue\", \"java\", \"java\", \"java\", \"java\", \"jenkins\", \"jenkins_please\", \"jira\", \"jira\", \"keep\", \"keep\", \"keep\", \"kind\", \"later\", \"level\", \"level\", \"license\", \"line\", \"link\", \"link\", \"locally\", \"locally\", \"locally\", \"logic\", \"logic\", \"look\", \"look\", \"look\", \"look_good\", \"lucene\", \"make\", \"make\", \"make_sense\", \"manually\", \"master\", \"master\", \"match\", \"match\", \"match\", \"maybe\", \"maybe\", \"merge\", \"merge\", \"merge\", \"merge\", \"message\", \"message\", \"metadata\", \"method\", \"method\", \"method\", \"mind\", \"mind\", \"minor\", \"module\", \"moment\", \"moment\", \"moment\", \"mongo\", \"name\", \"name\", \"name\", \"need\", \"need\", \"nice\", \"nice\", \"node\", \"null\", \"null\", \"number\", \"open\", \"operation\", \"operation\", \"opinion\", \"opinion\", \"opinion\", \"optional\", \"order\", \"order\", \"original\", \"original\", \"original\", \"others\", \"others\", \"others\", \"parameter\", \"parameter\", \"particular\", \"pas\", \"pas\", \"performance\", \"plan\", \"plan\", \"please\", \"polish\", \"polish\", \"private\", \"project\", \"project\", \"property\", \"property\", \"property\", \"public\", \"pull_request\", \"purpose\", \"push\", \"query\", \"query\", \"query\", \"question\", \"question\", \"question\", \"question\", \"quite\", \"quite\", \"quite\", \"read\", \"read\", \"real\", \"real\", \"really\", \"really\", \"rebase\", \"rebase\", \"redis\", \"redis\", \"reference\", \"reference\", \"reference\", \"related\", \"release\", \"release\", \"remove\", \"remove\", \"request\", \"request\", \"request\", \"request\", \"resource\", \"resource\", \"rest\", \"rest\", \"return\", \"review\", \"review\", \"right\", \"right\", \"rule\", \"sample\", \"sample\", \"search\", \"search\", \"section\", \"section\", \"security\", \"sense\", \"sense\", \"separate\", \"server\", \"service\", \"session\", \"several\", \"several\", \"sign\", \"snapshot\", \"solve\", \"solve\", \"something\", \"something\", \"something\", \"sorry\", \"sorry\", \"sorry\", \"sound\", \"sound\", \"spring\", \"spring\", \"spring_boot\", \"spring_data\", \"spring_data\", \"spring_project\", \"spring_project\", \"spring_session\", \"static\", \"static\", \"status\", \"still\", \"still\", \"still\", \"still\", \"string\", \"sure\", \"sure\", \"sync\", \"sync\", \"take_look\", \"test\", \"test\", \"test\", \"test\", \"thank\", \"thank\", \"thanks\", \"thanks_master\", \"thing\", \"thing\", \"thing\", \"think\", \"think\", \"thread\", \"ticket\", \"time\", \"time\", \"time\", \"true\", \"true\", \"type\", \"type\", \"type\", \"understand\", \"understand\", \"unfortunately\", \"update\", \"update\", \"user\", \"user\", \"user\", \"validation\", \"validator\", \"value\", \"value\", \"version\", \"version\", \"version\", \"wait\", \"want\", \"weird\", \"weird\", \"well\", \"well\", \"well\", \"work\", \"work\", \"wrong\", \"yeah\", \"yeah\"]}, \"R\": 30, \"lambda.step\": 0.01, \"plot.opts\": {\"xlab\": \"PC1\", \"ylab\": \"PC2\"}, \"topic.order\": [1, 2, 3, 4, 5]};\n",
       "\n",
       "function LDAvis_load_lib(url, callback){\n",
       "  var s = document.createElement('script');\n",
       "  s.src = url;\n",
       "  s.async = true;\n",
       "  s.onreadystatechange = s.onload = callback;\n",
       "  s.onerror = function(){console.warn(\"failed to load library \" + url);};\n",
       "  document.getElementsByTagName(\"head\")[0].appendChild(s);\n",
       "}\n",
       "\n",
       "if(typeof(LDAvis) !== \"undefined\"){\n",
       "   // already loaded: just create the visualization\n",
       "   !function(LDAvis){\n",
       "       new LDAvis(\"#\" + \"ldavis_el19113140652600420056154936932\", ldavis_el19113140652600420056154936932_data);\n",
       "   }(LDAvis);\n",
       "}else if(typeof define === \"function\" && define.amd){\n",
       "   // require.js is available: use it to load d3/LDAvis\n",
       "   require.config({paths: {d3: \"https://cdnjs.cloudflare.com/ajax/libs/d3/3.5.5/d3.min\"}});\n",
       "   require([\"d3\"], function(d3){\n",
       "      window.d3 = d3;\n",
       "      LDAvis_load_lib(\"https://cdn.rawgit.com/bmabey/pyLDAvis/files/ldavis.v1.0.0.js\", function(){\n",
       "        new LDAvis(\"#\" + \"ldavis_el19113140652600420056154936932\", ldavis_el19113140652600420056154936932_data);\n",
       "      });\n",
       "    });\n",
       "}else{\n",
       "    // require.js not available: dynamically load d3 & LDAvis\n",
       "    LDAvis_load_lib(\"https://cdnjs.cloudflare.com/ajax/libs/d3/3.5.5/d3.min.js\", function(){\n",
       "         LDAvis_load_lib(\"https://cdn.rawgit.com/bmabey/pyLDAvis/files/ldavis.v1.0.0.js\", function(){\n",
       "                 new LDAvis(\"#\" + \"ldavis_el19113140652600420056154936932\", ldavis_el19113140652600420056154936932_data);\n",
       "            })\n",
       "         });\n",
       "}\n",
       "</script>"
      ],
      "text/plain": [
       "<IPython.core.display.HTML object>"
      ]
     },
     "execution_count": 20,
     "metadata": {},
     "output_type": "execute_result"
    }
   ],
   "source": [
    "dictionary = gensim.corpora.Dictionary.load('dictionary.gensim')\n",
    "corpus = pickle.load(open('corpus.pkl', 'rb'))\n",
    "lda = gensim.models.ldamodel.LdaModel.load('model5.gensim')\n",
    "\n",
    "import pyLDAvis.gensim\n",
    "lda_display = pyLDAvis.gensim.prepare(lda, corpus, dictionary, sort_topics=False)\n",
    "pyLDAvis.display(lda_display)"
   ]
  },
  {
   "cell_type": "markdown",
   "metadata": {},
   "source": [
    "Saliency is a measure of how much the term tells you about the topic.  \n",
    "\n",
    "For the topic 1 the words \"also, need,work, value\" are the most salient one but the saliency values of all words are very close to each other thats why we coud'nt find a good interpretation for this cluster. \n",
    "\n",
    "For the topic 2 the words \"test,commit,class,method\" are the most salient I coudnt name or give a topic for this cluster\n",
    "\n",
    "For the topic 3 the word \"thanks\" is by far the most salient word to we can name this topic: \"Merged request or solved issues\".\n",
    "\n",
    "For the topic 4 words \"like test,spring,hernate\" are the most salient so we can call it \"JAVA requests\".\n",
    "\n",
    "For the topic 5 the most salient words are : \"change,issue ,code, want\". So if we want to name this cluster or topic: \"Requests\" should be good. \n",
    "\n",
    "\n",
    "However, This dataset is small (4k rows only) so relevant words are not easly distinguished from the rest of words even after the text cleaning and the reduction of the word's number."
   ]
  },
  {
   "cell_type": "markdown",
   "metadata": {},
   "source": [
    "# The resolution time after a change was requested.\n",
    "We have chronologically sorted comments. We will assume that comments are sorted by issues too which mean successive comments tackle the same issue untill it is resolved(merged). So to get the resolution time we will calculate the diffrence between the comment date and the date of the merge."
   ]
  },
  {
   "cell_type": "code",
   "execution_count": 21,
   "metadata": {},
   "outputs": [
    {
     "name": "stdout",
     "output_type": "stream",
     "text": [
      "The resolution time after a change was requested is :  3 days 09:53:32.282417\n"
     ]
    }
   ],
   "source": [
    "merged_rows = df[(df.is_merged ==True) & (df.merged_at > df.comment_date)]\n",
    "mean_time = merged_rows.apply(lambda row:row.merged_at - row.comment_date, axis=1).mean()\n",
    "print(\"The resolution time after a change was requested is : \", mean_time)"
   ]
  },
  {
   "cell_type": "code",
   "execution_count": null,
   "metadata": {},
   "outputs": [],
   "source": []
  }
 ],
 "metadata": {
  "kernelspec": {
   "display_name": "Python 3",
   "language": "python",
   "name": "python3"
  },
  "language_info": {
   "codemirror_mode": {
    "name": "ipython",
    "version": 3
   },
   "file_extension": ".py",
   "mimetype": "text/x-python",
   "name": "python",
   "nbconvert_exporter": "python",
   "pygments_lexer": "ipython3",
   "version": "3.6.6"
  }
 },
 "nbformat": 4,
 "nbformat_minor": 2
}
